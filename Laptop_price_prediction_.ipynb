{
  "nbformat": 4,
  "nbformat_minor": 0,
  "metadata": {
    "colab": {
      "provenance": []
    },
    "kernelspec": {
      "name": "python3",
      "display_name": "Python 3"
    },
    "language_info": {
      "name": "python"
    }
  },
  "cells": [
    {
      "cell_type": "code",
      "execution_count": 1,
      "metadata": {
        "id": "Vb0E9loLzHRG"
      },
      "outputs": [],
      "source": [
        "import numpy as np\n",
        "import pandas as pd\n",
        "import matplotlib.pyplot as plt\n",
        "import seaborn as sns\n",
        "import warnings\n",
        "warnings.filterwarnings('ignore')"
      ]
    },
    {
      "cell_type": "code",
      "source": [
        "data = pd.read_csv('/content/laptop_price - dataset.csv')"
      ],
      "metadata": {
        "id": "tA8stc6lzZFf"
      },
      "execution_count": 3,
      "outputs": []
    },
    {
      "cell_type": "code",
      "source": [
        "data"
      ],
      "metadata": {
        "colab": {
          "base_uri": "https://localhost:8080/",
          "height": 808
        },
        "id": "h1-UhmO2zcFU",
        "outputId": "a944cd48-419d-4c68-d94f-33ba852d1c90"
      },
      "execution_count": 4,
      "outputs": [
        {
          "output_type": "execute_result",
          "data": {
            "text/plain": [
              "     Company                              Product            TypeName  Inches  \\\n",
              "0      Apple                          MacBook Pro           Ultrabook    13.3   \n",
              "1      Apple                          Macbook Air           Ultrabook    13.3   \n",
              "2         HP                               250 G6            Notebook    15.6   \n",
              "3      Apple                          MacBook Pro           Ultrabook    15.4   \n",
              "4      Apple                          MacBook Pro           Ultrabook    13.3   \n",
              "...      ...                                  ...                 ...     ...   \n",
              "1270  Lenovo                       Yoga 500-14ISK  2 in 1 Convertible    14.0   \n",
              "1271  Lenovo                       Yoga 900-13ISK  2 in 1 Convertible    13.3   \n",
              "1272  Lenovo                   IdeaPad 100S-14IBR            Notebook    14.0   \n",
              "1273      HP  15-AC110nv (i7-6500U/6GB/1TB/Radeon            Notebook    15.6   \n",
              "1274    Asus  X553SA-XX031T (N3050/4GB/500GB/W10)            Notebook    15.6   \n",
              "\n",
              "                                ScreenResolution CPU_Company  \\\n",
              "0             IPS Panel Retina Display 2560x1600       Intel   \n",
              "1                                       1440x900       Intel   \n",
              "2                              Full HD 1920x1080       Intel   \n",
              "3             IPS Panel Retina Display 2880x1800       Intel   \n",
              "4             IPS Panel Retina Display 2560x1600       Intel   \n",
              "...                                          ...         ...   \n",
              "1270   IPS Panel Full HD / Touchscreen 1920x1080       Intel   \n",
              "1271  IPS Panel Quad HD+ / Touchscreen 3200x1800       Intel   \n",
              "1272                                    1366x768       Intel   \n",
              "1273                                    1366x768       Intel   \n",
              "1274                                    1366x768       Intel   \n",
              "\n",
              "                     CPU_Type  CPU_Frequency (GHz)  RAM (GB)  \\\n",
              "0                     Core i5                  2.3         8   \n",
              "1                     Core i5                  1.8         8   \n",
              "2               Core i5 7200U                  2.5         8   \n",
              "3                     Core i7                  2.7        16   \n",
              "4                     Core i5                  3.1         8   \n",
              "...                       ...                  ...       ...   \n",
              "1270            Core i7 6500U                  2.5         4   \n",
              "1271            Core i7 6500U                  2.5        16   \n",
              "1272  Celeron Dual Core N3050                  1.6         2   \n",
              "1273            Core i7 6500U                  2.5         6   \n",
              "1274  Celeron Dual Core N3050                  1.6         4   \n",
              "\n",
              "                   Memory GPU_Company                GPU_Type       OpSys  \\\n",
              "0               128GB SSD       Intel  Iris Plus Graphics 640       macOS   \n",
              "1     128GB Flash Storage       Intel        HD Graphics 6000       macOS   \n",
              "2               256GB SSD       Intel         HD Graphics 620       No OS   \n",
              "3               512GB SSD         AMD          Radeon Pro 455       macOS   \n",
              "4               256GB SSD       Intel  Iris Plus Graphics 650       macOS   \n",
              "...                   ...         ...                     ...         ...   \n",
              "1270            128GB SSD       Intel         HD Graphics 520  Windows 10   \n",
              "1271            512GB SSD       Intel         HD Graphics 520  Windows 10   \n",
              "1272   64GB Flash Storage       Intel             HD Graphics  Windows 10   \n",
              "1273              1TB HDD         AMD          Radeon R5 M330  Windows 10   \n",
              "1274            500GB HDD       Intel             HD Graphics  Windows 10   \n",
              "\n",
              "      Weight (kg)  Price (Euro)  \n",
              "0            1.37       1339.69  \n",
              "1            1.34        898.94  \n",
              "2            1.86        575.00  \n",
              "3            1.83       2537.45  \n",
              "4            1.37       1803.60  \n",
              "...           ...           ...  \n",
              "1270         1.80        638.00  \n",
              "1271         1.30       1499.00  \n",
              "1272         1.50        229.00  \n",
              "1273         2.19        764.00  \n",
              "1274         2.20        369.00  \n",
              "\n",
              "[1275 rows x 15 columns]"
            ],
            "text/html": [
              "\n",
              "  <div id=\"df-00b325ff-5957-47db-8a77-a4839534fafc\" class=\"colab-df-container\">\n",
              "    <div>\n",
              "<style scoped>\n",
              "    .dataframe tbody tr th:only-of-type {\n",
              "        vertical-align: middle;\n",
              "    }\n",
              "\n",
              "    .dataframe tbody tr th {\n",
              "        vertical-align: top;\n",
              "    }\n",
              "\n",
              "    .dataframe thead th {\n",
              "        text-align: right;\n",
              "    }\n",
              "</style>\n",
              "<table border=\"1\" class=\"dataframe\">\n",
              "  <thead>\n",
              "    <tr style=\"text-align: right;\">\n",
              "      <th></th>\n",
              "      <th>Company</th>\n",
              "      <th>Product</th>\n",
              "      <th>TypeName</th>\n",
              "      <th>Inches</th>\n",
              "      <th>ScreenResolution</th>\n",
              "      <th>CPU_Company</th>\n",
              "      <th>CPU_Type</th>\n",
              "      <th>CPU_Frequency (GHz)</th>\n",
              "      <th>RAM (GB)</th>\n",
              "      <th>Memory</th>\n",
              "      <th>GPU_Company</th>\n",
              "      <th>GPU_Type</th>\n",
              "      <th>OpSys</th>\n",
              "      <th>Weight (kg)</th>\n",
              "      <th>Price (Euro)</th>\n",
              "    </tr>\n",
              "  </thead>\n",
              "  <tbody>\n",
              "    <tr>\n",
              "      <th>0</th>\n",
              "      <td>Apple</td>\n",
              "      <td>MacBook Pro</td>\n",
              "      <td>Ultrabook</td>\n",
              "      <td>13.3</td>\n",
              "      <td>IPS Panel Retina Display 2560x1600</td>\n",
              "      <td>Intel</td>\n",
              "      <td>Core i5</td>\n",
              "      <td>2.3</td>\n",
              "      <td>8</td>\n",
              "      <td>128GB SSD</td>\n",
              "      <td>Intel</td>\n",
              "      <td>Iris Plus Graphics 640</td>\n",
              "      <td>macOS</td>\n",
              "      <td>1.37</td>\n",
              "      <td>1339.69</td>\n",
              "    </tr>\n",
              "    <tr>\n",
              "      <th>1</th>\n",
              "      <td>Apple</td>\n",
              "      <td>Macbook Air</td>\n",
              "      <td>Ultrabook</td>\n",
              "      <td>13.3</td>\n",
              "      <td>1440x900</td>\n",
              "      <td>Intel</td>\n",
              "      <td>Core i5</td>\n",
              "      <td>1.8</td>\n",
              "      <td>8</td>\n",
              "      <td>128GB Flash Storage</td>\n",
              "      <td>Intel</td>\n",
              "      <td>HD Graphics 6000</td>\n",
              "      <td>macOS</td>\n",
              "      <td>1.34</td>\n",
              "      <td>898.94</td>\n",
              "    </tr>\n",
              "    <tr>\n",
              "      <th>2</th>\n",
              "      <td>HP</td>\n",
              "      <td>250 G6</td>\n",
              "      <td>Notebook</td>\n",
              "      <td>15.6</td>\n",
              "      <td>Full HD 1920x1080</td>\n",
              "      <td>Intel</td>\n",
              "      <td>Core i5 7200U</td>\n",
              "      <td>2.5</td>\n",
              "      <td>8</td>\n",
              "      <td>256GB SSD</td>\n",
              "      <td>Intel</td>\n",
              "      <td>HD Graphics 620</td>\n",
              "      <td>No OS</td>\n",
              "      <td>1.86</td>\n",
              "      <td>575.00</td>\n",
              "    </tr>\n",
              "    <tr>\n",
              "      <th>3</th>\n",
              "      <td>Apple</td>\n",
              "      <td>MacBook Pro</td>\n",
              "      <td>Ultrabook</td>\n",
              "      <td>15.4</td>\n",
              "      <td>IPS Panel Retina Display 2880x1800</td>\n",
              "      <td>Intel</td>\n",
              "      <td>Core i7</td>\n",
              "      <td>2.7</td>\n",
              "      <td>16</td>\n",
              "      <td>512GB SSD</td>\n",
              "      <td>AMD</td>\n",
              "      <td>Radeon Pro 455</td>\n",
              "      <td>macOS</td>\n",
              "      <td>1.83</td>\n",
              "      <td>2537.45</td>\n",
              "    </tr>\n",
              "    <tr>\n",
              "      <th>4</th>\n",
              "      <td>Apple</td>\n",
              "      <td>MacBook Pro</td>\n",
              "      <td>Ultrabook</td>\n",
              "      <td>13.3</td>\n",
              "      <td>IPS Panel Retina Display 2560x1600</td>\n",
              "      <td>Intel</td>\n",
              "      <td>Core i5</td>\n",
              "      <td>3.1</td>\n",
              "      <td>8</td>\n",
              "      <td>256GB SSD</td>\n",
              "      <td>Intel</td>\n",
              "      <td>Iris Plus Graphics 650</td>\n",
              "      <td>macOS</td>\n",
              "      <td>1.37</td>\n",
              "      <td>1803.60</td>\n",
              "    </tr>\n",
              "    <tr>\n",
              "      <th>...</th>\n",
              "      <td>...</td>\n",
              "      <td>...</td>\n",
              "      <td>...</td>\n",
              "      <td>...</td>\n",
              "      <td>...</td>\n",
              "      <td>...</td>\n",
              "      <td>...</td>\n",
              "      <td>...</td>\n",
              "      <td>...</td>\n",
              "      <td>...</td>\n",
              "      <td>...</td>\n",
              "      <td>...</td>\n",
              "      <td>...</td>\n",
              "      <td>...</td>\n",
              "      <td>...</td>\n",
              "    </tr>\n",
              "    <tr>\n",
              "      <th>1270</th>\n",
              "      <td>Lenovo</td>\n",
              "      <td>Yoga 500-14ISK</td>\n",
              "      <td>2 in 1 Convertible</td>\n",
              "      <td>14.0</td>\n",
              "      <td>IPS Panel Full HD / Touchscreen 1920x1080</td>\n",
              "      <td>Intel</td>\n",
              "      <td>Core i7 6500U</td>\n",
              "      <td>2.5</td>\n",
              "      <td>4</td>\n",
              "      <td>128GB SSD</td>\n",
              "      <td>Intel</td>\n",
              "      <td>HD Graphics 520</td>\n",
              "      <td>Windows 10</td>\n",
              "      <td>1.80</td>\n",
              "      <td>638.00</td>\n",
              "    </tr>\n",
              "    <tr>\n",
              "      <th>1271</th>\n",
              "      <td>Lenovo</td>\n",
              "      <td>Yoga 900-13ISK</td>\n",
              "      <td>2 in 1 Convertible</td>\n",
              "      <td>13.3</td>\n",
              "      <td>IPS Panel Quad HD+ / Touchscreen 3200x1800</td>\n",
              "      <td>Intel</td>\n",
              "      <td>Core i7 6500U</td>\n",
              "      <td>2.5</td>\n",
              "      <td>16</td>\n",
              "      <td>512GB SSD</td>\n",
              "      <td>Intel</td>\n",
              "      <td>HD Graphics 520</td>\n",
              "      <td>Windows 10</td>\n",
              "      <td>1.30</td>\n",
              "      <td>1499.00</td>\n",
              "    </tr>\n",
              "    <tr>\n",
              "      <th>1272</th>\n",
              "      <td>Lenovo</td>\n",
              "      <td>IdeaPad 100S-14IBR</td>\n",
              "      <td>Notebook</td>\n",
              "      <td>14.0</td>\n",
              "      <td>1366x768</td>\n",
              "      <td>Intel</td>\n",
              "      <td>Celeron Dual Core N3050</td>\n",
              "      <td>1.6</td>\n",
              "      <td>2</td>\n",
              "      <td>64GB Flash Storage</td>\n",
              "      <td>Intel</td>\n",
              "      <td>HD Graphics</td>\n",
              "      <td>Windows 10</td>\n",
              "      <td>1.50</td>\n",
              "      <td>229.00</td>\n",
              "    </tr>\n",
              "    <tr>\n",
              "      <th>1273</th>\n",
              "      <td>HP</td>\n",
              "      <td>15-AC110nv (i7-6500U/6GB/1TB/Radeon</td>\n",
              "      <td>Notebook</td>\n",
              "      <td>15.6</td>\n",
              "      <td>1366x768</td>\n",
              "      <td>Intel</td>\n",
              "      <td>Core i7 6500U</td>\n",
              "      <td>2.5</td>\n",
              "      <td>6</td>\n",
              "      <td>1TB HDD</td>\n",
              "      <td>AMD</td>\n",
              "      <td>Radeon R5 M330</td>\n",
              "      <td>Windows 10</td>\n",
              "      <td>2.19</td>\n",
              "      <td>764.00</td>\n",
              "    </tr>\n",
              "    <tr>\n",
              "      <th>1274</th>\n",
              "      <td>Asus</td>\n",
              "      <td>X553SA-XX031T (N3050/4GB/500GB/W10)</td>\n",
              "      <td>Notebook</td>\n",
              "      <td>15.6</td>\n",
              "      <td>1366x768</td>\n",
              "      <td>Intel</td>\n",
              "      <td>Celeron Dual Core N3050</td>\n",
              "      <td>1.6</td>\n",
              "      <td>4</td>\n",
              "      <td>500GB HDD</td>\n",
              "      <td>Intel</td>\n",
              "      <td>HD Graphics</td>\n",
              "      <td>Windows 10</td>\n",
              "      <td>2.20</td>\n",
              "      <td>369.00</td>\n",
              "    </tr>\n",
              "  </tbody>\n",
              "</table>\n",
              "<p>1275 rows × 15 columns</p>\n",
              "</div>\n",
              "    <div class=\"colab-df-buttons\">\n",
              "\n",
              "  <div class=\"colab-df-container\">\n",
              "    <button class=\"colab-df-convert\" onclick=\"convertToInteractive('df-00b325ff-5957-47db-8a77-a4839534fafc')\"\n",
              "            title=\"Convert this dataframe to an interactive table.\"\n",
              "            style=\"display:none;\">\n",
              "\n",
              "  <svg xmlns=\"http://www.w3.org/2000/svg\" height=\"24px\" viewBox=\"0 -960 960 960\">\n",
              "    <path d=\"M120-120v-720h720v720H120Zm60-500h600v-160H180v160Zm220 220h160v-160H400v160Zm0 220h160v-160H400v160ZM180-400h160v-160H180v160Zm440 0h160v-160H620v160ZM180-180h160v-160H180v160Zm440 0h160v-160H620v160Z\"/>\n",
              "  </svg>\n",
              "    </button>\n",
              "\n",
              "  <style>\n",
              "    .colab-df-container {\n",
              "      display:flex;\n",
              "      gap: 12px;\n",
              "    }\n",
              "\n",
              "    .colab-df-convert {\n",
              "      background-color: #E8F0FE;\n",
              "      border: none;\n",
              "      border-radius: 50%;\n",
              "      cursor: pointer;\n",
              "      display: none;\n",
              "      fill: #1967D2;\n",
              "      height: 32px;\n",
              "      padding: 0 0 0 0;\n",
              "      width: 32px;\n",
              "    }\n",
              "\n",
              "    .colab-df-convert:hover {\n",
              "      background-color: #E2EBFA;\n",
              "      box-shadow: 0px 1px 2px rgba(60, 64, 67, 0.3), 0px 1px 3px 1px rgba(60, 64, 67, 0.15);\n",
              "      fill: #174EA6;\n",
              "    }\n",
              "\n",
              "    .colab-df-buttons div {\n",
              "      margin-bottom: 4px;\n",
              "    }\n",
              "\n",
              "    [theme=dark] .colab-df-convert {\n",
              "      background-color: #3B4455;\n",
              "      fill: #D2E3FC;\n",
              "    }\n",
              "\n",
              "    [theme=dark] .colab-df-convert:hover {\n",
              "      background-color: #434B5C;\n",
              "      box-shadow: 0px 1px 3px 1px rgba(0, 0, 0, 0.15);\n",
              "      filter: drop-shadow(0px 1px 2px rgba(0, 0, 0, 0.3));\n",
              "      fill: #FFFFFF;\n",
              "    }\n",
              "  </style>\n",
              "\n",
              "    <script>\n",
              "      const buttonEl =\n",
              "        document.querySelector('#df-00b325ff-5957-47db-8a77-a4839534fafc button.colab-df-convert');\n",
              "      buttonEl.style.display =\n",
              "        google.colab.kernel.accessAllowed ? 'block' : 'none';\n",
              "\n",
              "      async function convertToInteractive(key) {\n",
              "        const element = document.querySelector('#df-00b325ff-5957-47db-8a77-a4839534fafc');\n",
              "        const dataTable =\n",
              "          await google.colab.kernel.invokeFunction('convertToInteractive',\n",
              "                                                    [key], {});\n",
              "        if (!dataTable) return;\n",
              "\n",
              "        const docLinkHtml = 'Like what you see? Visit the ' +\n",
              "          '<a target=\"_blank\" href=https://colab.research.google.com/notebooks/data_table.ipynb>data table notebook</a>'\n",
              "          + ' to learn more about interactive tables.';\n",
              "        element.innerHTML = '';\n",
              "        dataTable['output_type'] = 'display_data';\n",
              "        await google.colab.output.renderOutput(dataTable, element);\n",
              "        const docLink = document.createElement('div');\n",
              "        docLink.innerHTML = docLinkHtml;\n",
              "        element.appendChild(docLink);\n",
              "      }\n",
              "    </script>\n",
              "  </div>\n",
              "\n",
              "\n",
              "<div id=\"df-762f24e9-b2c8-4719-9c16-aaf6701742eb\">\n",
              "  <button class=\"colab-df-quickchart\" onclick=\"quickchart('df-762f24e9-b2c8-4719-9c16-aaf6701742eb')\"\n",
              "            title=\"Suggest charts\"\n",
              "            style=\"display:none;\">\n",
              "\n",
              "<svg xmlns=\"http://www.w3.org/2000/svg\" height=\"24px\"viewBox=\"0 0 24 24\"\n",
              "     width=\"24px\">\n",
              "    <g>\n",
              "        <path d=\"M19 3H5c-1.1 0-2 .9-2 2v14c0 1.1.9 2 2 2h14c1.1 0 2-.9 2-2V5c0-1.1-.9-2-2-2zM9 17H7v-7h2v7zm4 0h-2V7h2v10zm4 0h-2v-4h2v4z\"/>\n",
              "    </g>\n",
              "</svg>\n",
              "  </button>\n",
              "\n",
              "<style>\n",
              "  .colab-df-quickchart {\n",
              "      --bg-color: #E8F0FE;\n",
              "      --fill-color: #1967D2;\n",
              "      --hover-bg-color: #E2EBFA;\n",
              "      --hover-fill-color: #174EA6;\n",
              "      --disabled-fill-color: #AAA;\n",
              "      --disabled-bg-color: #DDD;\n",
              "  }\n",
              "\n",
              "  [theme=dark] .colab-df-quickchart {\n",
              "      --bg-color: #3B4455;\n",
              "      --fill-color: #D2E3FC;\n",
              "      --hover-bg-color: #434B5C;\n",
              "      --hover-fill-color: #FFFFFF;\n",
              "      --disabled-bg-color: #3B4455;\n",
              "      --disabled-fill-color: #666;\n",
              "  }\n",
              "\n",
              "  .colab-df-quickchart {\n",
              "    background-color: var(--bg-color);\n",
              "    border: none;\n",
              "    border-radius: 50%;\n",
              "    cursor: pointer;\n",
              "    display: none;\n",
              "    fill: var(--fill-color);\n",
              "    height: 32px;\n",
              "    padding: 0;\n",
              "    width: 32px;\n",
              "  }\n",
              "\n",
              "  .colab-df-quickchart:hover {\n",
              "    background-color: var(--hover-bg-color);\n",
              "    box-shadow: 0 1px 2px rgba(60, 64, 67, 0.3), 0 1px 3px 1px rgba(60, 64, 67, 0.15);\n",
              "    fill: var(--button-hover-fill-color);\n",
              "  }\n",
              "\n",
              "  .colab-df-quickchart-complete:disabled,\n",
              "  .colab-df-quickchart-complete:disabled:hover {\n",
              "    background-color: var(--disabled-bg-color);\n",
              "    fill: var(--disabled-fill-color);\n",
              "    box-shadow: none;\n",
              "  }\n",
              "\n",
              "  .colab-df-spinner {\n",
              "    border: 2px solid var(--fill-color);\n",
              "    border-color: transparent;\n",
              "    border-bottom-color: var(--fill-color);\n",
              "    animation:\n",
              "      spin 1s steps(1) infinite;\n",
              "  }\n",
              "\n",
              "  @keyframes spin {\n",
              "    0% {\n",
              "      border-color: transparent;\n",
              "      border-bottom-color: var(--fill-color);\n",
              "      border-left-color: var(--fill-color);\n",
              "    }\n",
              "    20% {\n",
              "      border-color: transparent;\n",
              "      border-left-color: var(--fill-color);\n",
              "      border-top-color: var(--fill-color);\n",
              "    }\n",
              "    30% {\n",
              "      border-color: transparent;\n",
              "      border-left-color: var(--fill-color);\n",
              "      border-top-color: var(--fill-color);\n",
              "      border-right-color: var(--fill-color);\n",
              "    }\n",
              "    40% {\n",
              "      border-color: transparent;\n",
              "      border-right-color: var(--fill-color);\n",
              "      border-top-color: var(--fill-color);\n",
              "    }\n",
              "    60% {\n",
              "      border-color: transparent;\n",
              "      border-right-color: var(--fill-color);\n",
              "    }\n",
              "    80% {\n",
              "      border-color: transparent;\n",
              "      border-right-color: var(--fill-color);\n",
              "      border-bottom-color: var(--fill-color);\n",
              "    }\n",
              "    90% {\n",
              "      border-color: transparent;\n",
              "      border-bottom-color: var(--fill-color);\n",
              "    }\n",
              "  }\n",
              "</style>\n",
              "\n",
              "  <script>\n",
              "    async function quickchart(key) {\n",
              "      const quickchartButtonEl =\n",
              "        document.querySelector('#' + key + ' button');\n",
              "      quickchartButtonEl.disabled = true;  // To prevent multiple clicks.\n",
              "      quickchartButtonEl.classList.add('colab-df-spinner');\n",
              "      try {\n",
              "        const charts = await google.colab.kernel.invokeFunction(\n",
              "            'suggestCharts', [key], {});\n",
              "      } catch (error) {\n",
              "        console.error('Error during call to suggestCharts:', error);\n",
              "      }\n",
              "      quickchartButtonEl.classList.remove('colab-df-spinner');\n",
              "      quickchartButtonEl.classList.add('colab-df-quickchart-complete');\n",
              "    }\n",
              "    (() => {\n",
              "      let quickchartButtonEl =\n",
              "        document.querySelector('#df-762f24e9-b2c8-4719-9c16-aaf6701742eb button');\n",
              "      quickchartButtonEl.style.display =\n",
              "        google.colab.kernel.accessAllowed ? 'block' : 'none';\n",
              "    })();\n",
              "  </script>\n",
              "</div>\n",
              "\n",
              "  <div id=\"id_cc1586f8-bf40-4207-817b-fed4dcb7b49d\">\n",
              "    <style>\n",
              "      .colab-df-generate {\n",
              "        background-color: #E8F0FE;\n",
              "        border: none;\n",
              "        border-radius: 50%;\n",
              "        cursor: pointer;\n",
              "        display: none;\n",
              "        fill: #1967D2;\n",
              "        height: 32px;\n",
              "        padding: 0 0 0 0;\n",
              "        width: 32px;\n",
              "      }\n",
              "\n",
              "      .colab-df-generate:hover {\n",
              "        background-color: #E2EBFA;\n",
              "        box-shadow: 0px 1px 2px rgba(60, 64, 67, 0.3), 0px 1px 3px 1px rgba(60, 64, 67, 0.15);\n",
              "        fill: #174EA6;\n",
              "      }\n",
              "\n",
              "      [theme=dark] .colab-df-generate {\n",
              "        background-color: #3B4455;\n",
              "        fill: #D2E3FC;\n",
              "      }\n",
              "\n",
              "      [theme=dark] .colab-df-generate:hover {\n",
              "        background-color: #434B5C;\n",
              "        box-shadow: 0px 1px 3px 1px rgba(0, 0, 0, 0.15);\n",
              "        filter: drop-shadow(0px 1px 2px rgba(0, 0, 0, 0.3));\n",
              "        fill: #FFFFFF;\n",
              "      }\n",
              "    </style>\n",
              "    <button class=\"colab-df-generate\" onclick=\"generateWithVariable('data')\"\n",
              "            title=\"Generate code using this dataframe.\"\n",
              "            style=\"display:none;\">\n",
              "\n",
              "  <svg xmlns=\"http://www.w3.org/2000/svg\" height=\"24px\"viewBox=\"0 0 24 24\"\n",
              "       width=\"24px\">\n",
              "    <path d=\"M7,19H8.4L18.45,9,17,7.55,7,17.6ZM5,21V16.75L18.45,3.32a2,2,0,0,1,2.83,0l1.4,1.43a1.91,1.91,0,0,1,.58,1.4,1.91,1.91,0,0,1-.58,1.4L9.25,21ZM18.45,9,17,7.55Zm-12,3A5.31,5.31,0,0,0,4.9,8.1,5.31,5.31,0,0,0,1,6.5,5.31,5.31,0,0,0,4.9,4.9,5.31,5.31,0,0,0,6.5,1,5.31,5.31,0,0,0,8.1,4.9,5.31,5.31,0,0,0,12,6.5,5.46,5.46,0,0,0,6.5,12Z\"/>\n",
              "  </svg>\n",
              "    </button>\n",
              "    <script>\n",
              "      (() => {\n",
              "      const buttonEl =\n",
              "        document.querySelector('#id_cc1586f8-bf40-4207-817b-fed4dcb7b49d button.colab-df-generate');\n",
              "      buttonEl.style.display =\n",
              "        google.colab.kernel.accessAllowed ? 'block' : 'none';\n",
              "\n",
              "      buttonEl.onclick = () => {\n",
              "        google.colab.notebook.generateWithVariable('data');\n",
              "      }\n",
              "      })();\n",
              "    </script>\n",
              "  </div>\n",
              "\n",
              "    </div>\n",
              "  </div>\n"
            ],
            "application/vnd.google.colaboratory.intrinsic+json": {
              "type": "dataframe",
              "variable_name": "data",
              "summary": "{\n  \"name\": \"data\",\n  \"rows\": 1275,\n  \"fields\": [\n    {\n      \"column\": \"Company\",\n      \"properties\": {\n        \"dtype\": \"category\",\n        \"num_unique_values\": 19,\n        \"samples\": [\n          \"Apple\",\n          \"Lenovo\",\n          \"Xiaomi\"\n        ],\n        \"semantic_type\": \"\",\n        \"description\": \"\"\n      }\n    },\n    {\n      \"column\": \"Product\",\n      \"properties\": {\n        \"dtype\": \"category\",\n        \"num_unique_values\": 618,\n        \"samples\": [\n          \"GL72M 7RDX\",\n          \"GS73VR 7RF\",\n          \"E402WA-GA007T (E2-6110/4GB/64GB/W10\"\n        ],\n        \"semantic_type\": \"\",\n        \"description\": \"\"\n      }\n    },\n    {\n      \"column\": \"TypeName\",\n      \"properties\": {\n        \"dtype\": \"category\",\n        \"num_unique_values\": 6,\n        \"samples\": [\n          \"Ultrabook\",\n          \"Notebook\",\n          \"Workstation\"\n        ],\n        \"semantic_type\": \"\",\n        \"description\": \"\"\n      }\n    },\n    {\n      \"column\": \"Inches\",\n      \"properties\": {\n        \"dtype\": \"number\",\n        \"std\": 1.4294698446247902,\n        \"min\": 10.1,\n        \"max\": 18.4,\n        \"num_unique_values\": 18,\n        \"samples\": [\n          13.3,\n          15.6,\n          13.5\n        ],\n        \"semantic_type\": \"\",\n        \"description\": \"\"\n      }\n    },\n    {\n      \"column\": \"ScreenResolution\",\n      \"properties\": {\n        \"dtype\": \"category\",\n        \"num_unique_values\": 40,\n        \"samples\": [\n          \"IPS Panel 4K Ultra HD 3840x2160\",\n          \"4K Ultra HD / Touchscreen 3840x2160\",\n          \"IPS Panel Full HD 2160x1440\"\n        ],\n        \"semantic_type\": \"\",\n        \"description\": \"\"\n      }\n    },\n    {\n      \"column\": \"CPU_Company\",\n      \"properties\": {\n        \"dtype\": \"category\",\n        \"num_unique_values\": 3,\n        \"samples\": [\n          \"Intel\",\n          \"AMD\",\n          \"Samsung\"\n        ],\n        \"semantic_type\": \"\",\n        \"description\": \"\"\n      }\n    },\n    {\n      \"column\": \"CPU_Type\",\n      \"properties\": {\n        \"dtype\": \"category\",\n        \"num_unique_values\": 93,\n        \"samples\": [\n          \"Core i7 7820HQ\",\n          \"Atom x5-Z8550\",\n          \"Core M m3-7Y30\"\n        ],\n        \"semantic_type\": \"\",\n        \"description\": \"\"\n      }\n    },\n    {\n      \"column\": \"CPU_Frequency (GHz)\",\n      \"properties\": {\n        \"dtype\": \"number\",\n        \"std\": 0.5038457085709569,\n        \"min\": 0.9,\n        \"max\": 3.6,\n        \"num_unique_values\": 25,\n        \"samples\": [\n          2.0,\n          1.1,\n          2.3\n        ],\n        \"semantic_type\": \"\",\n        \"description\": \"\"\n      }\n    },\n    {\n      \"column\": \"RAM (GB)\",\n      \"properties\": {\n        \"dtype\": \"number\",\n        \"std\": 5,\n        \"min\": 2,\n        \"max\": 64,\n        \"num_unique_values\": 9,\n        \"samples\": [\n          24,\n          16,\n          6\n        ],\n        \"semantic_type\": \"\",\n        \"description\": \"\"\n      }\n    },\n    {\n      \"column\": \"Memory\",\n      \"properties\": {\n        \"dtype\": \"category\",\n        \"num_unique_values\": 39,\n        \"samples\": [\n          \"240GB SSD\",\n          \"1.0TB HDD\",\n          \"500GB HDD\"\n        ],\n        \"semantic_type\": \"\",\n        \"description\": \"\"\n      }\n    },\n    {\n      \"column\": \"GPU_Company\",\n      \"properties\": {\n        \"dtype\": \"category\",\n        \"num_unique_values\": 4,\n        \"samples\": [\n          \"AMD\",\n          \"ARM\",\n          \"Intel\"\n        ],\n        \"semantic_type\": \"\",\n        \"description\": \"\"\n      }\n    },\n    {\n      \"column\": \"GPU_Type\",\n      \"properties\": {\n        \"dtype\": \"category\",\n        \"num_unique_values\": 106,\n        \"samples\": [\n          \"Radeon R5 M315\",\n          \"Radeon Pro 555\",\n          \"Iris Plus Graphics 650\"\n        ],\n        \"semantic_type\": \"\",\n        \"description\": \"\"\n      }\n    },\n    {\n      \"column\": \"OpSys\",\n      \"properties\": {\n        \"dtype\": \"category\",\n        \"num_unique_values\": 9,\n        \"samples\": [\n          \"Chrome OS\",\n          \"No OS\",\n          \"Android\"\n        ],\n        \"semantic_type\": \"\",\n        \"description\": \"\"\n      }\n    },\n    {\n      \"column\": \"Weight (kg)\",\n      \"properties\": {\n        \"dtype\": \"number\",\n        \"std\": 0.6691959759708271,\n        \"min\": 0.69,\n        \"max\": 4.7,\n        \"num_unique_values\": 171,\n        \"samples\": [\n          2.6,\n          2.05,\n          1.32\n        ],\n        \"semantic_type\": \"\",\n        \"description\": \"\"\n      }\n    },\n    {\n      \"column\": \"Price (Euro)\",\n      \"properties\": {\n        \"dtype\": \"number\",\n        \"std\": 700.7525041749287,\n        \"min\": 174.0,\n        \"max\": 6099.0,\n        \"num_unique_values\": 791,\n        \"samples\": [\n          1292.0,\n          389.0,\n          1798.0\n        ],\n        \"semantic_type\": \"\",\n        \"description\": \"\"\n      }\n    }\n  ]\n}"
            }
          },
          "metadata": {},
          "execution_count": 4
        }
      ]
    },
    {
      "cell_type": "code",
      "source": [
        "data.columns"
      ],
      "metadata": {
        "colab": {
          "base_uri": "https://localhost:8080/"
        },
        "id": "I9v6Ef7yzse9",
        "outputId": "0383f996-a7fe-499e-f10a-8fb098435527"
      },
      "execution_count": 6,
      "outputs": [
        {
          "output_type": "execute_result",
          "data": {
            "text/plain": [
              "Index(['Company', 'Product', 'TypeName', 'Inches', 'ScreenResolution',\n",
              "       'CPU_Company', 'CPU_Type', 'CPU_Frequency (GHz)', 'RAM (GB)', 'Memory',\n",
              "       'GPU_Company', 'GPU_Type', 'OpSys', 'Weight (kg)', 'Price (Euro)'],\n",
              "      dtype='object')"
            ]
          },
          "metadata": {},
          "execution_count": 6
        }
      ]
    },
    {
      "cell_type": "code",
      "source": [
        "data.info()"
      ],
      "metadata": {
        "colab": {
          "base_uri": "https://localhost:8080/"
        },
        "id": "MCXLc9oazx4_",
        "outputId": "18627134-4f5c-4a46-fc98-53d4dfc88447"
      },
      "execution_count": 7,
      "outputs": [
        {
          "output_type": "stream",
          "name": "stdout",
          "text": [
            "<class 'pandas.core.frame.DataFrame'>\n",
            "RangeIndex: 1275 entries, 0 to 1274\n",
            "Data columns (total 15 columns):\n",
            " #   Column               Non-Null Count  Dtype  \n",
            "---  ------               --------------  -----  \n",
            " 0   Company              1275 non-null   object \n",
            " 1   Product              1275 non-null   object \n",
            " 2   TypeName             1275 non-null   object \n",
            " 3   Inches               1275 non-null   float64\n",
            " 4   ScreenResolution     1275 non-null   object \n",
            " 5   CPU_Company          1275 non-null   object \n",
            " 6   CPU_Type             1275 non-null   object \n",
            " 7   CPU_Frequency (GHz)  1275 non-null   float64\n",
            " 8   RAM (GB)             1275 non-null   int64  \n",
            " 9   Memory               1275 non-null   object \n",
            " 10  GPU_Company          1275 non-null   object \n",
            " 11  GPU_Type             1275 non-null   object \n",
            " 12  OpSys                1275 non-null   object \n",
            " 13  Weight (kg)          1275 non-null   float64\n",
            " 14  Price (Euro)         1275 non-null   float64\n",
            "dtypes: float64(4), int64(1), object(10)\n",
            "memory usage: 149.5+ KB\n"
          ]
        }
      ]
    },
    {
      "cell_type": "code",
      "source": [
        "import pandas as pd\n",
        "import numpy as np\n",
        "from sklearn.model_selection import train_test_split\n",
        "from sklearn.feature_extraction.text import TfidfVectorizer\n",
        "from sklearn.preprocessing import StandardScaler\n",
        "from sklearn.compose import ColumnTransformer\n",
        "from sklearn.pipeline import Pipeline\n",
        "from sklearn.ensemble import RandomForestRegressor\n",
        "from sklearn.metrics import r2_score, mean_squared_error\n",
        "from sklearn.base import BaseEstimator, TransformerMixin\n",
        "import joblib\n",
        "\n",
        "# Custom Transformer for NLP-based Categorical Encoding\n",
        "class TextVectorizer(BaseEstimator, TransformerMixin):\n",
        "    def __init__(self):\n",
        "        self.vectorizers = {}\n",
        "\n",
        "    def fit(self, X, y=None):\n",
        "        for column in X.columns:\n",
        "            vectorizer = TfidfVectorizer()\n",
        "            self.vectorizers[column] = vectorizer.fit(X[column].astype(str))\n",
        "        return self\n",
        "\n",
        "    def transform(self, X):\n",
        "        transformed_columns = []\n",
        "        for column in X.columns:\n",
        "            transformed = self.vectorizers[column].transform(X[column].astype(str))\n",
        "            transformed_columns.append(transformed.toarray())\n",
        "        return np.hstack(transformed_columns)\n",
        "\n",
        "# Load the dataset\n",
        "df = pd.read_csv(\"/content/laptop_price - dataset.csv\")  # Replace with your file path\n",
        "\n",
        "# Preprocessing\n",
        "X = df.drop(columns=[\"Price (Euro)\"])\n",
        "y = df[\"Price (Euro)\"]\n",
        "\n",
        "# Identify categorical and numerical columns\n",
        "categorical_cols = [\"Company\", \"Product\", \"TypeName\", \"ScreenResolution\", \"CPU_Company\", \"CPU_Type\", \"Memory\", \"GPU_Company\", \"GPU_Type\", \"OpSys\"]\n",
        "numerical_cols = [\"Inches\", \"CPU_Frequency (GHz)\", \"RAM (GB)\", \"Weight (kg)\"]\n",
        "\n",
        "# Define the preprocessing pipeline\n",
        "preprocessor = ColumnTransformer(\n",
        "    transformers=[\n",
        "        (\"num\", StandardScaler(), numerical_cols),  # Standard scaling for numerical features\n",
        "        (\"cat\", TextVectorizer(), categorical_cols),  # NLP-based encoding for categorical features\n",
        "    ]\n",
        ")\n",
        "\n",
        "# Define the model pipeline\n",
        "model = Pipeline(steps=[\n",
        "    (\"preprocessor\", preprocessor),\n",
        "    (\"regressor\", RandomForestRegressor(n_estimators=100, random_state=42))\n",
        "])\n",
        "\n",
        "# Train-test split\n",
        "X_train, X_test, y_train, y_test = train_test_split(X, y, test_size=0.2, random_state=42)\n",
        "\n",
        "# Fit the model\n",
        "model.fit(X_train, y_train)\n",
        "\n",
        "# Save the model and preprocessor\n",
        "joblib.dump(model, \"laptop_price_model_nlp.pkl\")\n",
        "\n",
        "# Evaluate the model\n",
        "y_pred = model.predict(X_test)\n",
        "print(\"R^2 Score:\", r2_score(y_test, y_pred))\n",
        "print(\"RMSE:\", np.sqrt(mean_squared_error(y_test, y_pred)))\n"
      ],
      "metadata": {
        "colab": {
          "base_uri": "https://localhost:8080/"
        },
        "id": "d3wnimra0F0h",
        "outputId": "4ec89a76-550f-467f-a13c-0eb025775480"
      },
      "execution_count": 8,
      "outputs": [
        {
          "output_type": "stream",
          "name": "stdout",
          "text": [
            "R^2 Score: 0.8826945135472974\n",
            "RMSE: 241.29508920105235\n"
          ]
        }
      ]
    },
    {
      "cell_type": "code",
      "source": [
        "import pandas as pd\n",
        "import numpy as np\n",
        "from sklearn.model_selection import train_test_split\n",
        "from sklearn.feature_extraction.text import TfidfVectorizer\n",
        "from sklearn.preprocessing import StandardScaler, OneHotEncoder\n",
        "from sklearn.compose import ColumnTransformer\n",
        "from sklearn.pipeline import Pipeline\n",
        "from sklearn.ensemble import RandomForestRegressor\n",
        "from sklearn.metrics import r2_score, mean_squared_error\n",
        "import joblib\n",
        "\n",
        "# Load the dataset\n",
        "df = pd.read_csv(\"/content/laptop_price - dataset.csv\")  # Replace with your dataset path\n",
        "\n",
        "# Preprocessing\n",
        "X = df.drop(columns=[\"Price (Euro)\"])\n",
        "y = df[\"Price (Euro)\"]\n",
        "\n",
        "# Identify categorical, text-based, and numerical columns\n",
        "categorical_cols = [\"Company\", \"TypeName\", \"CPU_Company\", \"GPU_Company\", \"OpSys\"]\n",
        "text_cols = [\"ScreenResolution\", \"Product\", \"CPU_Type\", \"Memory\", \"GPU_Type\"]\n",
        "numerical_cols = [\"Inches\", \"CPU_Frequency (GHz)\", \"RAM (GB)\", \"Weight (kg)\"]\n",
        "\n",
        "# Define individual transformers\n",
        "numerical_transformer = StandardScaler()\n",
        "categorical_transformer = OneHotEncoder(handle_unknown=\"ignore\")\n",
        "text_transformer = TfidfVectorizer()\n",
        "\n",
        "# Define the preprocessing pipeline\n",
        "preprocessor = ColumnTransformer(\n",
        "    transformers=[\n",
        "        (\"num\", numerical_transformer, numerical_cols),  # Scale numerical features\n",
        "        (\"cat\", categorical_transformer, categorical_cols),  # Encode categorical features\n",
        "        # Apply TfidfVectorizer individually to each text column\n",
        "        (\"text_screen_resolution\", TfidfVectorizer(), \"ScreenResolution\"),\n",
        "        (\"text_product\", TfidfVectorizer(), \"Product\"),\n",
        "        (\"text_cpu_type\", TfidfVectorizer(), \"CPU_Type\"),\n",
        "        (\"text_memory\", TfidfVectorizer(), \"Memory\"),\n",
        "        (\"text_gpu_type\", TfidfVectorizer(), \"GPU_Type\"),\n",
        "    ]\n",
        ")\n",
        "\n",
        "# Define the model pipeline\n",
        "model = Pipeline(steps=[\n",
        "    (\"preprocessor\", preprocessor),\n",
        "    (\"regressor\", RandomForestRegressor(n_estimators=100, random_state=42))\n",
        "])\n",
        "\n",
        "# Train-test split\n",
        "X_train, X_test, y_train, y_test = train_test_split(X, y, test_size=0.2, random_state=42)\n",
        "\n",
        "# Fit the model\n",
        "model.fit(X_train, y_train)\n",
        "\n",
        "# Save the model\n",
        "joblib.dump(model, \"laptop_price_model_nlp2.pkl\")\n",
        "\n",
        "# Evaluate the model\n",
        "y_pred = model.predict(X_test)\n",
        "print(\"R^2 Score:\", r2_score(y_test, y_pred))\n",
        "print(\"RMSE:\", np.sqrt(mean_squared_error(y_test, y_pred)))\n"
      ],
      "metadata": {
        "colab": {
          "base_uri": "https://localhost:8080/"
        },
        "id": "M7drWlCt9iHT",
        "outputId": "84b44c6e-678d-4dff-f59d-8c7269f8cb93"
      },
      "execution_count": 11,
      "outputs": [
        {
          "output_type": "stream",
          "name": "stdout",
          "text": [
            "R^2 Score: 0.8842533782061086\n",
            "RMSE: 239.6864500098494\n"
          ]
        }
      ]
    },
    {
      "cell_type": "code",
      "source": [
        "data.columns"
      ],
      "metadata": {
        "colab": {
          "base_uri": "https://localhost:8080/"
        },
        "id": "9vu3L3w9ELmE",
        "outputId": "6262df48-8190-4208-d24e-9a65a8d0fede"
      },
      "execution_count": 12,
      "outputs": [
        {
          "output_type": "execute_result",
          "data": {
            "text/plain": [
              "Index(['Company', 'Product', 'TypeName', 'Inches', 'ScreenResolution',\n",
              "       'CPU_Company', 'CPU_Type', 'CPU_Frequency (GHz)', 'RAM (GB)', 'Memory',\n",
              "       'GPU_Company', 'GPU_Type', 'OpSys', 'Weight (kg)', 'Price (Euro)'],\n",
              "      dtype='object')"
            ]
          },
          "metadata": {},
          "execution_count": 12
        }
      ]
    },
    {
      "cell_type": "code",
      "source": [
        "data['Product'].unique()"
      ],
      "metadata": {
        "colab": {
          "base_uri": "https://localhost:8080/"
        },
        "id": "GS6509TAENDY",
        "outputId": "93f2d70e-4410-4aa4-986f-22d0cef15bd3"
      },
      "execution_count": 26,
      "outputs": [
        {
          "output_type": "execute_result",
          "data": {
            "text/plain": [
              "array(['MacBook Pro', 'Macbook Air', '250 G6', 'Aspire 3',\n",
              "       'ZenBook UX430UN', 'Swift 3', 'Inspiron 3567', 'MacBook 12\"',\n",
              "       'IdeaPad 320-15IKB', 'XPS 13', 'Vivobook E200HA',\n",
              "       'Legion Y520-15IKBN', '255 G6', 'Inspiron 5379',\n",
              "       '15-BS101nv (i7-8550U/8GB/256GB/FHD/W10)', 'MacBook Air',\n",
              "       'Inspiron 5570', 'Latitude 5590', 'ProBook 470', 'LapBook 15.6\"',\n",
              "       'E402WA-GA010T (E2-6110/2GB/32GB/W10)',\n",
              "       '17-ak001nv (A6-9220/4GB/500GB/Radeon', 'IdeaPad 120S-14IAP',\n",
              "       'Inspiron 5770', 'ProBook 450',\n",
              "       'X540UA-DM186 (i3-6006U/4GB/1TB/FHD/Linux)', 'Inspiron 7577',\n",
              "       'X542UQ-GO005 (i5-7200U/8GB/1TB/GeForce', 'Aspire A515-51G',\n",
              "       'Inspiron 7773', 'IdeaPad 320-15ISK', 'Rog Strix',\n",
              "       'X751NV-TY001T (N4200/4GB/1TB/GeForce', 'Yoga Book', 'ProBook 430',\n",
              "       'Inspiron 3576', '15-bs002nv (i3-6006U/4GB/128GB/FHD/W10)',\n",
              "       'VivoBook Max', 'GS73VR 7RG',\n",
              "       'X541UA-DM1897 (i3-6006U/4GB/256GB/FHD/Linux)', 'Vostro 5471',\n",
              "       'IdeaPad 520S-14IKB',\n",
              "       'UX410UA-GV350T (i5-8250U/8GB/256GB/FHD/W10)', 'ZenBook Pro',\n",
              "       'Stream 14-AX040wm', 'V310-15ISK (i5-7200U/4GB/1TB/FHD/W10)',\n",
              "       'FX753VE-GC093 (i7-7700HQ/12GB/1TB/GeForce', 'Surface Laptop',\n",
              "       'Inspiron 5370', 'GL72M 7RDX', 'Aspire E5-475',\n",
              "       'FX503VD-E4022T (i7-7700HQ/8GB/1TB/GeForce', 'IdeaPad 320-15IKBN',\n",
              "       'Aspire A515-51G-32MX', 'ProBook 440', 'IdeaPad 320-15AST',\n",
              "       'Pavilion 15-CK000nv', 'FX503VM-E4007T (i7-7700HQ/16GB/1TB',\n",
              "       'FX550IK-DM018T (FX-9830P/8GB/1TB/Radeon', 'Aspire 5',\n",
              "       'Probook 430', 'Zenbook UX430UA', 'Spin 5',\n",
              "       'X541UV-DM1439T (i3-7100U/6GB/256GB/GeForce', 'Omen 15-ce007nv',\n",
              "       '15-bs017nv (i7-7500U/8GB/256GB/Radeon',\n",
              "       '15-bw000nv (E2-9000e/4GB/500GB/Radeon', 'Envy 13-ad009n',\n",
              "       'Pavilion 14-BK001nv', 'Ideapad 310-15ISK',\n",
              "       'UX430UQ-GV209R (i7-7500U/8GB/256GB/GeForce', 'GP62M 7REX',\n",
              "       'Thinkpad T470', 'VivoBook S15', 'ThinkPad Yoga', 'Probook 440',\n",
              "       'Spectre x360', 'Inspiron 7570',\n",
              "       'X705UV-BX074T (i3-6006U/4GB/1TB/GeForce', 'Spin 3', 'GS63VR 7RG',\n",
              "       'Probook 470', 'E402WA-GA007T (E2-6110/4GB/64GB/W10',\n",
              "       'Inspiron 5567', 'Aspire A515-51G-37JS',\n",
              "       '15-BS078nr (i7-7500U/8GB/1TB/W10)',\n",
              "       'V110-15IAP (N3350/4GB/1TB/No',\n",
              "       'FX753VD-GC086T (i5-7300HQ/8GB/1TB', 'Envy 13-AD007nv',\n",
              "       'ThinkPad E480', 'Satellite Pro', 'ZenBook UX430UA',\n",
              "       'EliteBook Folio', 'X541NA (N3350/4GB/1TB/FHD/W10)', 'GE72MVR 7RG',\n",
              "       'Aspire A315-51', 'Inspiron 5577', 'Inspiron 7567',\n",
              "       'V110-15IKB (i5-7200U/4GB/128GB/W10)', 'GE73VR 7RE',\n",
              "       'EliteBook 840', '15-BS103nv (i5-8250U/6GB/256GB/Radeon',\n",
              "       'Yoga 520-14IKB', 'ZenBook Flip', 'Inspiron 5579',\n",
              "       'X555BP-XX180T (A9-9420/4GB/1TB/Radeon', 'Aspire A517-51G',\n",
              "       'Aspire A315-31', 'GE63VR 7RE', 'MateBook X',\n",
              "       '17-bs001nv (i5-7200U/6GB/2TB/Radeon', 'GT80S 6QF-074US',\n",
              "       'V310-15IKB (i5-7200U/8GB/1TB', 'Yoga 920-13IKB', 'Mi Notebook',\n",
              "       'XPS 15', 'Swift 7', 'Thinkpad Yoga',\n",
              "       'K147 (N3350/4GB/32GB/FHD/W10)', 'IdeaPad 320-17IKBR', 'Blade Pro',\n",
              "       'Omen 17-W295', 'V110-15ISK (i5-6200U/4GB/128GB/W10)',\n",
              "       'Aspire E5-576G', 'Legion Y720-15IKB', 'Precision 7520',\n",
              "       'Aspire 7', 'ROG GL703VD-GC028T',\n",
              "       '15-bs018nq (i3-6006U/4GB/500GB/FHD/No', 'IdeaPad 320-17IKB',\n",
              "       'Latitude 5490', 'Portege Z30-C-16L', 'Alienware 17',\n",
              "       'Vivobook X541UV-DM1217T', 'K756UX-T4340T (i5-7200U/8GB/500GB',\n",
              "       'ZBook 15u', 'Pro P2540UA-XO0198T',\n",
              "       '15-rb013nv (E2-9000e/4GB/500GB/W10)', 'Vostro 5468', 'Aspire R7',\n",
              "       'X555QG-DM242T (A10-9620P/4GB/1TB', 'ROG G703VI-E5062T',\n",
              "       'Nitro AN515-51', 'VivoBook Pro',\n",
              "       'F756UX-T4201D (i7-7500U/8GB/128GB', 'Yoga 910-13IKB',\n",
              "       '15-bs015dx (i5-7200U/8GB/1TB/W10)', 'Rog G701VIK-BA060T',\n",
              "       'ROG G752VSK-GC493T', 'X505BP-BR019T (A9-9420/4GB/1TB/Radeon',\n",
              "       'Vostro 5370', '15-BW094nd (A6-9220/8GB/128GB/W10)',\n",
              "       'Envy 17-U275cl', 'GT73EVR 7RE', 'Yoga 720-15IKB', 'Vostro 3568',\n",
              "       'V330-15IKB (i7-8550U/8GB/256GB/FHD/W10)', 'ThinkPad X1',\n",
              "       'IdeaPad 320-17ISK', 'Ideapad 320-15IKBN',\n",
              "       'SP315-51 (i7-7500U/12GB/1TB/FHD/W10)', 'Thinkpad T570',\n",
              "       'Chromebook C910-C2ST',\n",
              "       'FX753VD-GC071T (i7-7700HQ/8GB/1TB/GeForce',\n",
              "       '17-BS037cl (i3-6006U/8GB/1TB/W10)',\n",
              "       'V330-15IKB (i5-8250U/8GB/256GB/FHD/W10)', 'Aspire A715-71G',\n",
              "       'Precision 7720', 'IdeaPad 310-15ABR', 'ZenBook UX530UQ-PRO',\n",
              "       'VivoBook S14', 'Rog GL702VS-GC095T',\n",
              "       'GL553VE-FY082T (i7-7700HQ/8GB/1TB', 'IdeaPad 320-15IAP',\n",
              "       'EliteBook x360', 'IdeaPad 720S-13IKB', 'GE63VR 7RF',\n",
              "       'ES1-523-84K7 (A8-7410/8GB/256GB/FHD/W10)', 'VivoBook Flip',\n",
              "       'ThinkPad 13', 'ProBook 640', 'TravelMate B', 'Elitebook 840',\n",
              "       'ZenBook UX410UA-GV183T', 'Aspire E5-575', 'Elitebook 820',\n",
              "       'GL72M 7REX', 'UX510UX-CN269T (i7-7500U/8GB/256GB',\n",
              "       'V310-15ISK (i3-6006U/4GB/1TB/FHD/W10)',\n",
              "       'FX553VD-FY647T (i7-7700HQ/8GB/256GB/GeForce', 'Elitebook 850',\n",
              "       'X541NA (N3350/4GB/1TB/Linux)', 'Inspiron 3552',\n",
              "       'IdeaPad 320-15ABR', 'Stream 14-AX001nv', 'GP72MVR 7RFX',\n",
              "       'Zbook 15', 'Tecra A50-C-21G', 'Latitude 7480',\n",
              "       'Zenbook UX410UA-GV027T', '15-AY023na (N3710/8GB/2TB/W10)',\n",
              "       'Elitebook 1040', 'IdeaPad 110-17ACL',\n",
              "       '15-bw003nv (A9-Series-9420/4GB/256GB/FHD/W10)', 'Yoga 11e',\n",
              "       'VivoBook E403NA', 'Omen 17-w212nv',\n",
              "       'V310-15ISK (i3-6006U/4GB/128GB/FHD/No', 'ROG Strix',\n",
              "       'IdeaPad 720S-14IKB', 'Zenbook Flip', 'Thinkpad X1',\n",
              "       'Ideapad 510S-13IKB', 'Precision 3510', 'Precision 5520',\n",
              "       'Rog GL753VD-GC042T', 'Rog GL753VE-GC070T', 'Leopard GP72M',\n",
              "       '15-BW004nv (A9-9420/4GB/256GB/Radeon', 'ThinkPad E580',\n",
              "       'ThinkPad L470', 'Precision M5520',\n",
              "       'FX753VD-GC461T (i7-7700HQ/16GB/1TB', 'GE73VR 7RF', 'Zenbook 3',\n",
              "       'Portege Z30-C-16P', 'Lenovo IdeaPad', 'ThinkPad P51',\n",
              "       'Thinkpad T470p', '15-BS028nv (i3-6006U/4GB/1TB/Radeon',\n",
              "       'Latitude 3380', 'EliteBook 1040', 'LapBook 12.3', 'ProBook 650',\n",
              "       'X542UQ-DM117 (i3-7100U/8GB/1TB/GeForce', 'Latitude 5480',\n",
              "       'Omen 17-w207nv', 'FlexBook Edge', 'Chromebook 3', 'Thinkpad 13',\n",
              "       'IdeaPad 320s-14IKB', 'Thinkpad P51',\n",
              "       '15-ra044nv (N3060/4GB/500GB/W10)', 'Pixelbook (Core',\n",
              "       'ThinkPad T470s', 'ThinkPad X270', 'Omen 15-AX205na',\n",
              "       'Aspire ES1-572', 'Precision 3520', 'GV62 7RD-1686NL',\n",
              "       '15-bs024nv (i5-7200U/8GB/128GB/W10)', 'ThinkPad T470',\n",
              "       'Inspiron 3168', '17-BS092ND (i3-6006U/8GB/256GB/W10)',\n",
              "       'Pro P2540UA-AB51', 'IdeaPad 510s-14IKB',\n",
              "       'X541NA-PD1003Y (N4200/4GB/500GB/W10)', 'Omen 17-an006nv',\n",
              "       'Thinkpad T460s', 'Latitude 7390', 'Latitude E5470',\n",
              "       'Portege X30-D-10J', 'Lapbook 15,6', 'ThinkPad E570',\n",
              "       'Thinkpad X270', 'Zenbook UX390UA', 'Thinkpad E570',\n",
              "       'Portege X30-D-10L', 'Rog G752VL-UH71T', 'Thinkpad X260',\n",
              "       'Ideapad 520-15IKBR', 'ThinkPad L570', 'VivoBook E201NA',\n",
              "       '15-BS026nv (i5-7200U/8GB/256GB/Radeon', 'IdeaPad 320-14IAP',\n",
              "       'Chromebook N23', 'ZenBook UX510UX-CN211T', 'Aspire A515-51G-59QF',\n",
              "       'Envy 13-AB002nv', 'Vostro 5568', 'VivoBook E12',\n",
              "       '15-bs190od (i5-8250U/4GB/1TB/W10)', 'ROG Zephyrus', 'Probook 450',\n",
              "       'FX753VE-GC155T (i7-7700HQ/16GB/1TB', 'Spectre X360',\n",
              "       'Latitude 5580', 'Zenbook UX510UW-FI095T', 'SmartBook Edge',\n",
              "       'Omen 15-ce006nv', 'Thinkpad E470', 'Envy 13-AB020nr',\n",
              "       'VivoBook X540YA-XX519T', 'ThinkPad E470',\n",
              "       'V310-15ISK (i5-6200U/4GB/1TB/FHD/No', 'ThinkPad T570',\n",
              "       '17-X047na (i3-6006U/8GB/1TB/W10)',\n",
              "       'A541NA-GO342 (N3350/4GB/500GB/Linux)', 'SmartBook 130',\n",
              "       '15-bw007nv (A10-9620P/6GB/128GB/Radeon', 'Spin SP111-31',\n",
              "       'V330-15IKB (i3-7130U/4GB/128GB/FHD/W10)', 'EliteBook 1030',\n",
              "       'Thinkpad P71', 'FX553VD-DM627T (i5-7300HQ/8GB/1TB',\n",
              "       'Lifebook A557', 'ZBook 17', '14-am079na (N3710/8GB/2TB/W10)',\n",
              "       '15-cd005nv (A9-9420/6GB/256GB/Radeon',\n",
              "       'V330-15IKB (i5-8250U/4GB/500GB/FHD/W10)', 'SmartBook 141',\n",
              "       'Tecra X40-D-10H', 'IdeaPad Y910-17ISK', 'GT73VR Titan',\n",
              "       'Chromebook 11', 'GT80S 6QE', 'Omen 17-AN010nv',\n",
              "       'Ideapad 320-15IKBR', 'TP501UA-CJ131T (i5-7200U/8GB/1TB/W10)',\n",
              "       'Inspiron 3179', 'Notebook Odyssey',\n",
              "       'V320-17ISK (i3-6006U/4GB/500GB/FHD/No', 'IdeaPad 110-15ISK',\n",
              "       'Latitude 5289', 'EliteBook 850', 'Aspire 1', 'Laptop MSI',\n",
              "       'GS63VR 7RF', 'Tecra Z50-C-144', 'IdeaPad 310-15IKB',\n",
              "       'Swift SF114-31-P5HY', 'Inspiron 7559',\n",
              "       'FX753VD-GC007T (i7-7700HQ/8GB/1TB', 'GT62VR 7RE',\n",
              "       'CB5-132T-C9KK (N3160/4GB/32GB/Chrome', 'LifeBook A557',\n",
              "       'SmartBook 140', 'Q304UA-BHI5T11 (i5-7200U/6GB/1TB/FHD/W10)',\n",
              "       'ZenBook 3', 'V330-15IKB (i5-8250U/4GB/256GB/FHD/W10)',\n",
              "       'Ideapad 320-15ISK', 'X541NA-GO414T (N3350/8GB/1TB/W10)',\n",
              "       'IdeaPad 100S-14IBR', '17-AK091ND (A9-9420/8GB/1TB/W10)',\n",
              "       'ROG GL553VE-FY022', 'Extensa EX2540', 'Portege Z30-C-16J',\n",
              "       'ROG G701VI', 'A715-71G-59DH (i5-7300HQ/8GB/1TB/GeForce',\n",
              "       'GL62M 7REX', 'Tecra A50-D-11M', 'IdeaPad Y700-15ISK',\n",
              "       'Latitude E7470', 'Ideapad 320-15IAP',\n",
              "       '15-ay047nv (i3-6006U/6GB/1TB/Radeon', 'GP72VR Leopard',\n",
              "       'Latitude 3580', '15-bs012nv (i7-7500U/8GB/1TB/Radeon',\n",
              "       'Tecra Z50-D-10E', 'V310-15ISK (i5-7200U/8GB/1TB',\n",
              "       'Yoga 720-13IKB', 'Pavilion X360', 'GP62 7RDX', 'Chromebook X360',\n",
              "       'Gram 15Z975', 'Aspire VX5-591G', 'GV62M 7RD',\n",
              "       'L502NA-GO052T (N3350/4GB/128GB/W10)', 'Alienware 15',\n",
              "       '17-bs000nv I3', 'Yoga 730', '17-Y002nv (A10-9600P/6GB/2TB/Radeon',\n",
              "       'V110-15ISK (3855U/4GB/500GB/W10)', 'Chromebook 14',\n",
              "       'IdeaPad 520s-14IKB', 'TravelMate B117-M', 'Chromebook Flip',\n",
              "       'Portege Z30T-C-133', '15-bs011nv (i7-7500U/4GB/500GB/Radeon',\n",
              "       'V310-15IKB (i5-7200U/4GB/1TB/FHD/W10)',\n",
              "       'V310-15ISK (i3-6006U/4GB/500GB/No', 'ThinkPad P51s',\n",
              "       'Thinkpad T460p', '17-ak002nv (A10-9620P/6GB/2TB/Radeon',\n",
              "       '110-15ACL (A6-7310/4GB/500GB/W10)', 'Smartbook 142',\n",
              "       'V310-15IKB (i5-7200U/4GB/1TB/No', 'Inspiron 5378',\n",
              "       '15-BW037na (A9-9420/4GB/1TB/Radeon', 'Predator 17',\n",
              "       '15-BW091ND (A9-9420/6GB/1TB', 'Extensa EX2540-58KR',\n",
              "       'V310-15IKB (i7-7500U/4GB/1TB/FHD/W10)', 'ZBook 15',\n",
              "       'Inspiron 7560', 'Tecra X40-D-10G', 'Flex 5', 'Thinkpad P51s',\n",
              "       'Notebook 9', 'Zbook 17', 'N23 (N3060/4GB/128GB/W10)',\n",
              "       'X550VX-XX015D (i5-6300HQ/4GB/1TB/GeForce', 'Thinkpad T460',\n",
              "       'Pro P2540UA-XO0192R', 'Yoga 900-13ISK',\n",
              "       '15-cb003na (i5-7300HQ/8GB/1TB', 'Latitude 7280',\n",
              "       'Zenbook UX330UA-AH5Q', 'TravelMate P238-M',\n",
              "       'X751NV-TY001 (N4200/4GB/1TB/GeForce', 'Tecra A40-C-1E5',\n",
              "       'EliteBook 820', 'Q524UQ-BHI7T15 (i7-7500U/12GB/2TB/GeForce',\n",
              "       'Thinkpad P50', 'Vivobook Max', 'Rog G752VS-BA171T',\n",
              "       'Tecra Z40-C-161', 'IdeaPad 110-15IBR', 'GS43VR 7RE',\n",
              "       'GL62M (i5-7300HQ/8GB/1TB', 'Predator G9-793',\n",
              "       'FX502VM-DM560T (i7-7700HQ/8GB/1TB', 'K146 (N3350/4GB/32GB/W10)',\n",
              "       'Yoga 510-15IKB', 'R417NA-RS01 (N3350/4GB/32GB/W10)',\n",
              "       'Pro P2540UA-XS51', 'Latitude 3180',\n",
              "       '15-ba043na (A12-9700P/8GB/2TB/W10)', 'Omen 17-an012dx',\n",
              "       'Thinkpad T470s', 'Blade Stealth', 'Latitude 3480',\n",
              "       'V110-15ISK (i3-6006U/4GB/500GB/W10)', 'Tecra X40-D-10Z',\n",
              "       'GL62M 7RD', 'Rog GL702VS-BA023T', 'N42-20 Chromebook',\n",
              "       'R558UA-DM966T (i5-7200U/8GB/128GB/FHD/W10)', 'Rog GL702VM-GC017T',\n",
              "       'ZenBook UX310UQ-GL026T', 'Rog GL502VM-DS74', 'Inspiron 5767',\n",
              "       'ThinkPad T470p', 'K556UR-DM621T (i7-7500U/8GB/256GB/GeForce',\n",
              "       'X541NA (N4200/4GB/1TB/W10)', 'Inspiron 5368', 'Portege X30-D-10X',\n",
              "       'Portégé Z30-C-188',\n",
              "       'TMX349-G2-M-50FS (i5-7200U/8GB/256GB/FHD/W10)', 'Tecra A50-D-11D',\n",
              "       'X541NA-GO121 (N4200/4GB/1TB/Linux)', 'Pavilion x360',\n",
              "       'VivoBook L402NA', 'IdeaPad 510-15ISK', 'Rog GL753VD-GC082T',\n",
              "       'Chromebook C731-C78G', 'Probook 640', 'Envy x360',\n",
              "       'GS73VR Stealth', 'Portege X30-D-10V',\n",
              "       'G701VO-IH74K (i7-6820HK/32GB/2x', 'Gram 15Z970',\n",
              "       'Chromebook CB5-571-C1DZ', 'Gram 14Z970', 'Elitebook Folio',\n",
              "       'IdeaPad 510-15IKB', 'GE72VR 6RF', 'Envy 13-AB077cl',\n",
              "       'Tecra Z50-C-140', 'Probook 650', 'Tecra Z40-C-12X',\n",
              "       'GP62M Leopard', 'Omen 17-W006na',\n",
              "       'X751SV-TY001T (N3710/4GB/1TB/GeForce', 'TravelMate P259-G2',\n",
              "       'Tecra A50-C-1ZV', 'Yoga 700-11ISK', 'IdeaPad Y700-15ACZ',\n",
              "       'Insprion 5767', 'ZBook Studio', 'Portege Z30-C-1CW',\n",
              "       'ProBook x360', 'Chromebook C738T-C2EJ', 'Portege Z30-C-16Z',\n",
              "       'Aspire F5-573G-510L', 'Portege X20W-D-10V', 'Tecra A40-C-1DF',\n",
              "       'ThinkPad T460', 'Q534UX-BHI7T19 (i7-7500U/16GB/2TB',\n",
              "       '15-bs053od (i7-7500U/6GB/1TB/W10)', 'Rog GL753VE-DS74',\n",
              "       'Inspiron 7579', 'Portege Z30-C-1CV', 'LifeBook A556',\n",
              "       'Tecra A40-C-1KF', '15-bs005nv (i3-6006U/4GB/1TB',\n",
              "       'V110-15IAP (N3350/4GB/128GB/No', 'ThinkPad T560',\n",
              "       'ZenBook UX310UA-FB485T', 'Spectre 13-V111dx', 'Aspire ES1-533',\n",
              "       'Rog GL553VE-DS74', 'Nitro 5', 'ENVY -', 'Portege Z30-C-16H',\n",
              "       'Portege A30-C-1CZ', 'ThinkPad P70', 'Tecra Z40-C-12Z',\n",
              "       'Inspiron 5568', 'Portégé Z30-C-16K', 'Spectre 13-V100nv',\n",
              "       'Latitude E5570', 'Tecra Z40-C-136', 'Yoga 500-15ISK',\n",
              "       'V142 (X5-Z8350/2GB/32GB/W10)', 'Tecra A50-C-218', 'Thinkpad L560',\n",
              "       'GT72S Dominator', 'IdeaPad Y900-17ISK', 'Chromebook C202SA',\n",
              "       'Noteb Pav', 'Inspiron 5578', '250 G5', 'Aspire ES1-523',\n",
              "       'Inspiron 7378', 'GT62VR 6RD', 'Rog G752VL-GC088D', 'GS63VR 6RF',\n",
              "       'ROG G701VO', 'Latitude 3570', 'IdeaPad 300-17ISK',\n",
              "       'Ideapad 700-15ISK', 'GT72VR Dominator',\n",
              "       'V110-15ISK (i5-6200U/4GB/500GB/W10)', 'Yoga 900S-12ISK',\n",
              "       'Chromebook 13', 'Rog GL702VM-GC354T', 'Aspire F5-573G',\n",
              "       'GS70 Stealth', 'G752VY-GC162T (i7-6700HQ/16GB/1TB',\n",
              "       'Latitude E5270', 'Chromebook 15', 'GE72 Apache',\n",
              "       '15-bw011nv (A6-9220/4GB/1TB/FHD/W10)', 'Rog GL552VW-CN470T',\n",
              "       'Vostro 3559', 'V110-15ISK (i3-6006U/4GB/128GB/W10)',\n",
              "       'Spectre Pro', 'Portege X30-D-10K', 'Rog GL752VW-T4308T',\n",
              "       'V131 (X5-Z8350/4GB/32GB/FHD/W10)', 'Omen -',\n",
              "       '15-bs078cl (i7-7500U/8GB/2TB/W10)', 'ThinkPad P40',\n",
              "       'L403NA-GA013TS (N3350/4GB/32GB/W10)', 'IdeaPad 500-15ISK',\n",
              "       'GP62M 7RDX', 'V110-15ISK (i3-6006U/4GB/1TB/No',\n",
              "       '15-BA015wm (E2-7110/4GB/500GB/W10)',\n",
              "       'B51-80 (i5-6200U/8GB/1TB/Radeon',\n",
              "       '15-bw002nv (A6-9220/4GB/256GB/Radeon', 'GP72M 7REX',\n",
              "       'ThinkPad T460s', 'B51-80 (i5-6200U/8GB/1008GB/Radeon',\n",
              "       'GS40 Phantom', 'Pavilion 15-cb003nv', 'IdeaPad 310-15ISK',\n",
              "       '250 G4', '320-15ISK (i3-6006U/4GB/1TB/GeForce',\n",
              "       'Stream 14-AX000nv', 'PL60 7RD',\n",
              "       'X553SA-XX021T (N3050/4GB/500GB/W10)',\n",
              "       'V110-15ISK (i5-6200U/4GB/500GB/No',\n",
              "       'UX410UA-GV097T (i3-7100U/4GB/256GB/FHD/W10)',\n",
              "       'B51-80 (i7-6500U/4GB/1008GB/FHD/W7)', 'GS60 Ghost',\n",
              "       'Pavilion 15-BC000nv', 'Rog GL552VW-DM201T', 'Chromebook Plus',\n",
              "       'Pavilion Power', 'V110-15ISK (i3-6006U/4GB/1TB/Radeon',\n",
              "       'Rog G752VY-GC229T', 'GS73VR 7RF',\n",
              "       'FX502VM-DM105T (i7-6700HQ/8GB/1TB/GeForce',\n",
              "       '15-bs025nv (i5-7200U/8GB/256GB/W10)', 'Aspire E5-774G',\n",
              "       'FX502VM-AS73 (i7-7700HQ/16GB/1TB',\n",
              "       'C740-C9QX (3205U/2GB/32GB/Chrome', 'E5 774G',\n",
              "       'SP714-51 (i7-7Y75/8GB/256GB/FHD/W10)', 'Thinkpad T560',\n",
              "       'GP62MVR 6RF', '15-bw009nv (A12-9720P/6GB/1TB/Radeon',\n",
              "       'Latitude E7270', 'X540SA-RBPDN09 (N3710/4GB/1TB/W10)',\n",
              "       'GL62M 7RDX', 'GE72VR Apache',\n",
              "       '15-bs023nv (i3-6006U/4GB/1TB/FHD/W10)', 'GL62 6QF',\n",
              "       'ZenBook UX310UA-WB71', 'Inspiron 7779', 'Rog GL553VE-FY052T',\n",
              "       'Rog GL502VS', 'V510-15IKB (i5-7200U/8GB/256GB/FHD/No',\n",
              "       'ThinkPad L460', 'X541NA-GO020T (N3350/4GB/1TB/W10)',\n",
              "       'Rog G752VT-GC073T', 'B51-80 (i7-6500U/8GB/1008GB/Radeon',\n",
              "       'GE62 Apache', 'Yoga 500-14IBD', 'ZenBook UX305CA-UBM1',\n",
              "       'Aspire ES1-531', 'Pavilion 15-AW003nv', 'Stream 11-Y000na',\n",
              "       'X556UJ-XO044T (i7-6500U/4GB/500GB/GeForce', 'Yoga 500-14ISK',\n",
              "       '15-AC110nv (i7-6500U/6GB/1TB/Radeon',\n",
              "       'X553SA-XX031T (N3050/4GB/500GB/W10)'], dtype=object)"
            ]
          },
          "metadata": {},
          "execution_count": 26
        }
      ]
    },
    {
      "cell_type": "code",
      "source": [
        "data['TypeName'].unique()"
      ],
      "metadata": {
        "colab": {
          "base_uri": "https://localhost:8080/"
        },
        "id": "mEPo0oT1ERGi",
        "outputId": "f9c90802-e162-4ed3-fb19-81c80ea70bb6"
      },
      "execution_count": 14,
      "outputs": [
        {
          "output_type": "execute_result",
          "data": {
            "text/plain": [
              "array(['Ultrabook', 'Notebook', 'Netbook', 'Gaming', '2 in 1 Convertible',\n",
              "       'Workstation'], dtype=object)"
            ]
          },
          "metadata": {},
          "execution_count": 14
        }
      ]
    },
    {
      "cell_type": "code",
      "source": [
        "data['ScreenResolution'].unique()"
      ],
      "metadata": {
        "colab": {
          "base_uri": "https://localhost:8080/"
        },
        "id": "xRJvGB9pETeI",
        "outputId": "c62cc1a8-6186-4fbb-fe01-784977d0a9e0"
      },
      "execution_count": 15,
      "outputs": [
        {
          "output_type": "execute_result",
          "data": {
            "text/plain": [
              "array(['IPS Panel Retina Display 2560x1600', '1440x900',\n",
              "       'Full HD 1920x1080', 'IPS Panel Retina Display 2880x1800',\n",
              "       '1366x768', 'IPS Panel Full HD 1920x1080',\n",
              "       'IPS Panel Retina Display 2304x1440',\n",
              "       'IPS Panel Full HD / Touchscreen 1920x1080',\n",
              "       'Full HD / Touchscreen 1920x1080',\n",
              "       'Touchscreen / Quad HD+ 3200x1800',\n",
              "       'IPS Panel Touchscreen 1920x1200', 'Touchscreen 2256x1504',\n",
              "       'Quad HD+ / Touchscreen 3200x1800', 'IPS Panel 1366x768',\n",
              "       'IPS Panel 4K Ultra HD / Touchscreen 3840x2160',\n",
              "       'IPS Panel Full HD 2160x1440',\n",
              "       '4K Ultra HD / Touchscreen 3840x2160', 'Touchscreen 2560x1440',\n",
              "       '1600x900', 'IPS Panel 4K Ultra HD 3840x2160',\n",
              "       '4K Ultra HD 3840x2160', 'Touchscreen 1366x768',\n",
              "       'IPS Panel Full HD 1366x768', 'IPS Panel 2560x1440',\n",
              "       'IPS Panel Full HD 2560x1440',\n",
              "       'IPS Panel Retina Display 2736x1824', 'Touchscreen 2400x1600',\n",
              "       '2560x1440', 'IPS Panel Quad HD+ 2560x1440',\n",
              "       'IPS Panel Quad HD+ 3200x1800',\n",
              "       'IPS Panel Quad HD+ / Touchscreen 3200x1800',\n",
              "       'IPS Panel Touchscreen 1366x768', '1920x1080',\n",
              "       'IPS Panel Full HD 1920x1200',\n",
              "       'IPS Panel Touchscreen / 4K Ultra HD 3840x2160',\n",
              "       'IPS Panel Touchscreen 2560x1440',\n",
              "       'Touchscreen / Full HD 1920x1080', 'Quad HD+ 3200x1800',\n",
              "       'Touchscreen / 4K Ultra HD 3840x2160',\n",
              "       'IPS Panel Touchscreen 2400x1600'], dtype=object)"
            ]
          },
          "metadata": {},
          "execution_count": 15
        }
      ]
    },
    {
      "cell_type": "code",
      "source": [
        "data['CPU_Company'].unique()"
      ],
      "metadata": {
        "colab": {
          "base_uri": "https://localhost:8080/"
        },
        "id": "53dYumZCEVPS",
        "outputId": "85d3337e-65e0-4955-cd36-22daa8878ef0"
      },
      "execution_count": 16,
      "outputs": [
        {
          "output_type": "execute_result",
          "data": {
            "text/plain": [
              "array(['Intel', 'AMD', 'Samsung'], dtype=object)"
            ]
          },
          "metadata": {},
          "execution_count": 16
        }
      ]
    },
    {
      "cell_type": "code",
      "source": [
        "data['CPU_Type'].unique()"
      ],
      "metadata": {
        "colab": {
          "base_uri": "https://localhost:8080/"
        },
        "id": "AZOOmT1AEXk7",
        "outputId": "3784b913-41cd-4e59-e3b6-a8a49514a73e"
      },
      "execution_count": 17,
      "outputs": [
        {
          "output_type": "execute_result",
          "data": {
            "text/plain": [
              "array(['Core i5', 'Core i5 7200U', 'Core i7', 'A9-Series 9420',\n",
              "       'Core i7 8550U', 'Core i5 8250U', 'Core i3 6006U', 'Core M m3',\n",
              "       'Core i7 7500U', 'Core i3 7100U', 'Atom x5-Z8350',\n",
              "       'Core i5 7300HQ', 'E-Series E2-9000e', 'Core i7 8650U',\n",
              "       'Atom x5-Z8300', 'E-Series E2-6110', 'A6-Series 9220',\n",
              "       'Celeron Dual Core N3350', 'Core i3 7130U', 'Core i7 7700HQ',\n",
              "       'Ryzen 1700', 'Pentium Quad Core N4200', 'Atom x5-Z8550',\n",
              "       'Celeron Dual Core N3060', 'FX 9830P', 'Core i7 7560U',\n",
              "       'E-Series 6110', 'Core i5 6200U', 'Core M 6Y75', 'Core i5 7500U',\n",
              "       'Core i7 6920HQ', 'Core i5 7Y54', 'Core i7 7820HK',\n",
              "       'Xeon E3-1505M V6', 'Core i7 6500U', 'E-Series 9000e',\n",
              "       'A10-Series A10-9620P', 'A6-Series A6-9220', 'Core i7 6600U',\n",
              "       'Celeron Dual Core 3205U', 'Core i7 7820HQ', 'A10-Series 9600P',\n",
              "       'Core i7 7600U', 'A8-Series 7410', 'Celeron Dual Core 3855U',\n",
              "       'Pentium Quad Core N3710', 'A12-Series 9720P', 'Core i5 7300U',\n",
              "       'Celeron Quad Core N3450', 'Core i5 6440HQ', 'Core i7 6820HQ',\n",
              "       'Ryzen 1600', 'Core i7 7Y75', 'Core i5 7440HQ', 'Core i7 7660U',\n",
              "       'Core M m3-7Y30', 'Core i5 7Y57', 'Core i7 6700HQ',\n",
              "       'Core i3 6100U', 'A10-Series 9620P', 'E-Series 7110',\n",
              "       'A9-Series A9-9420', 'Core i7 6820HK', 'Core M 7Y30',\n",
              "       'Xeon E3-1535M v6', 'Celeron Quad Core N3160', 'Core i5 6300U',\n",
              "       'E-Series E2-9000', 'Celeron Dual Core N3050', 'Core M M3-6Y30',\n",
              "       'Core i5 6300HQ', 'A6-Series 7310', 'Atom Z8350',\n",
              "       'Xeon E3-1535M v5', 'Core i5 6260U', 'Pentium Dual Core N4200',\n",
              "       'Celeron Quad Core N3710', 'Core M', 'A12-Series 9700P',\n",
              "       'Pentium Dual Core 4405U', 'A4-Series 7210', 'Core i7 6560U',\n",
              "       'Core M m7-6Y75', 'FX 8800P', 'Core M M7-6Y75', 'Atom X5-Z8350',\n",
              "       'Pentium Dual Core 4405Y', 'Pentium Quad Core N3700',\n",
              "       'Core M 6Y54', 'Cortex A72&A53', 'E-Series 9000', 'Core M 6Y30',\n",
              "       'A9-Series 9410'], dtype=object)"
            ]
          },
          "metadata": {},
          "execution_count": 17
        }
      ]
    },
    {
      "cell_type": "code",
      "source": [
        "data['Memory'].unique()"
      ],
      "metadata": {
        "colab": {
          "base_uri": "https://localhost:8080/"
        },
        "id": "49oaDNlpEZtZ",
        "outputId": "4cfc7421-1ad8-4936-d9a3-8526b6ac95e1"
      },
      "execution_count": 18,
      "outputs": [
        {
          "output_type": "execute_result",
          "data": {
            "text/plain": [
              "array(['128GB SSD', '128GB Flash Storage', '256GB SSD', '512GB SSD',\n",
              "       '500GB HDD', '256GB Flash Storage', '1TB HDD',\n",
              "       '32GB Flash Storage', '128GB SSD +  1TB HDD',\n",
              "       '256GB SSD +  256GB SSD', '64GB Flash Storage',\n",
              "       '256GB SSD +  1TB HDD', '256GB SSD +  2TB HDD', '32GB SSD',\n",
              "       '2TB HDD', '64GB SSD', '1.0TB Hybrid', '512GB SSD +  1TB HDD',\n",
              "       '1TB SSD', '256GB SSD +  500GB HDD', '128GB SSD +  2TB HDD',\n",
              "       '512GB SSD +  512GB SSD', '16GB SSD', '16GB Flash Storage',\n",
              "       '512GB SSD +  256GB SSD', '512GB SSD +  2TB HDD',\n",
              "       '64GB Flash Storage +  1TB HDD', '180GB SSD', '1TB HDD +  1TB HDD',\n",
              "       '32GB HDD', '1TB SSD +  1TB HDD', '512GB Flash Storage',\n",
              "       '128GB HDD', '240GB SSD', '8GB SSD', '508GB Hybrid', '1.0TB HDD',\n",
              "       '512GB SSD +  1.0TB Hybrid', '256GB SSD +  1.0TB Hybrid'],\n",
              "      dtype=object)"
            ]
          },
          "metadata": {},
          "execution_count": 18
        }
      ]
    },
    {
      "cell_type": "code",
      "source": [
        "data['GPU_Company'].unique()"
      ],
      "metadata": {
        "colab": {
          "base_uri": "https://localhost:8080/"
        },
        "id": "TC_R-AoHEchq",
        "outputId": "0deac312-ca45-45a4-ddcf-20f28ca84a5c"
      },
      "execution_count": 19,
      "outputs": [
        {
          "output_type": "execute_result",
          "data": {
            "text/plain": [
              "array(['Intel', 'AMD', 'Nvidia', 'ARM'], dtype=object)"
            ]
          },
          "metadata": {},
          "execution_count": 19
        }
      ]
    },
    {
      "cell_type": "code",
      "source": [
        "data['GPU_Type'].unique()"
      ],
      "metadata": {
        "colab": {
          "base_uri": "https://localhost:8080/"
        },
        "id": "W846oyi8EwWP",
        "outputId": "fac41379-fc47-4447-922c-f75a923a1eea"
      },
      "execution_count": 20,
      "outputs": [
        {
          "output_type": "execute_result",
          "data": {
            "text/plain": [
              "array(['Iris Plus Graphics 640', 'HD Graphics 6000', 'HD Graphics 620',\n",
              "       'Radeon Pro 455', 'Iris Plus Graphics 650', 'Radeon R5',\n",
              "       'Iris Pro Graphics', 'GeForce MX150', 'UHD Graphics 620',\n",
              "       'HD Graphics 520', 'Radeon Pro 555', 'Radeon R5 M430',\n",
              "       'HD Graphics 615', 'Radeon Pro 560', 'GeForce 940MX',\n",
              "       'HD Graphics 400', 'GeForce GTX 1050', 'Radeon R2', 'Radeon 530',\n",
              "       'GeForce 930MX', 'HD Graphics', 'HD Graphics 500',\n",
              "       'GeForce GTX 1060', 'GeForce 150MX', 'Iris Graphics 540',\n",
              "       'Radeon RX 580', 'GeForce 920MX', 'Radeon R4 Graphics',\n",
              "       'Radeon 520', 'GeForce GTX 1070', 'GeForce GTX 1050 Ti',\n",
              "       'GeForce MX130', 'R4 Graphics', 'GeForce GTX 940MX',\n",
              "       'Radeon RX 560', 'GeForce 920M', 'Radeon R7 M445', 'Radeon RX 550',\n",
              "       'GeForce GTX 1050M', 'HD Graphics 515', 'Radeon R5 M420',\n",
              "       'HD Graphics 505', 'GTX 980 SLI', 'R17M-M1-70', 'GeForce GTX 1080',\n",
              "       'Quadro M1200', 'GeForce GTX 950M', 'FirePro W4190M',\n",
              "       'GeForce GTX 980M', 'Iris Graphics 550', 'GeForce 930M',\n",
              "       'HD Graphics 630', 'Radeon R5 430', 'GeForce GTX 940M',\n",
              "       'HD Graphics 510', 'HD Graphics 405', 'Radeon RX 540',\n",
              "       'GeForce GT 940MX', 'FirePro W5130M', 'Quadro M2200M', 'Radeon R4',\n",
              "       'Quadro M620', 'Radeon R7 M460', 'HD Graphics 530',\n",
              "       'GeForce GTX 965M', 'GeForce GTX1080', 'GeForce GTX1050 Ti',\n",
              "       'GeForce GTX 960M', 'Radeon R2 Graphics', 'Quadro M620M',\n",
              "       'GeForce GTX 970M', 'GeForce GTX 960<U+039C>', 'Graphics 620',\n",
              "       'GeForce GTX 960', 'Radeon R5 520', 'Radeon R7 M440', 'Radeon R7',\n",
              "       'Quadro M520M', 'Quadro M2200', 'Quadro M2000M', 'HD Graphics 540',\n",
              "       'Quadro M1000M', 'Radeon 540', 'GeForce GTX 1070M',\n",
              "       'GeForce GTX1060', 'HD Graphics 5300', 'Radeon R5 M420X',\n",
              "       'Radeon R7 Graphics', 'GeForce 920', 'GeForce 940M',\n",
              "       'GeForce GTX 930MX', 'Radeon R7 M465', 'Radeon R3',\n",
              "       'GeForce GTX 1050Ti', 'Radeon R7 M365X', 'Radeon R9 M385',\n",
              "       'Quadro 3000M', 'GeForce GTX 980', 'Radeon R5 M330',\n",
              "       'FirePro W6150M', 'Radeon R5 M315', 'Quadro M500M',\n",
              "       'Radeon R7 M360', 'Quadro M3000M', 'GeForce 960M', 'Mali T860 MP4'],\n",
              "      dtype=object)"
            ]
          },
          "metadata": {},
          "execution_count": 20
        }
      ]
    },
    {
      "cell_type": "code",
      "source": [
        "data['OpSys'].unique()"
      ],
      "metadata": {
        "colab": {
          "base_uri": "https://localhost:8080/"
        },
        "id": "BoG08Wo-Eyaw",
        "outputId": "8d1cfd8d-3bab-48b8-bf41-77c63d1baa09"
      },
      "execution_count": 21,
      "outputs": [
        {
          "output_type": "execute_result",
          "data": {
            "text/plain": [
              "array(['macOS', 'No OS', 'Windows 10', 'Mac OS X', 'Linux', 'Android',\n",
              "       'Windows 10 S', 'Chrome OS', 'Windows 7'], dtype=object)"
            ]
          },
          "metadata": {},
          "execution_count": 21
        }
      ]
    },
    {
      "cell_type": "code",
      "source": [
        "data['Inches'].unique()"
      ],
      "metadata": {
        "colab": {
          "base_uri": "https://localhost:8080/"
        },
        "id": "5QZ9mQNnE3wR",
        "outputId": "553549ff-d0f3-4ee8-d0d2-456e87fdf10e"
      },
      "execution_count": 22,
      "outputs": [
        {
          "output_type": "execute_result",
          "data": {
            "text/plain": [
              "array([13.3, 15.6, 15.4, 14. , 12. , 11.6, 17.3, 10.1, 13.5, 12.5, 13. ,\n",
              "       18.4, 13.9, 12.3, 17. , 15. , 14.1, 11.3])"
            ]
          },
          "metadata": {},
          "execution_count": 22
        }
      ]
    },
    {
      "cell_type": "code",
      "source": [
        "data['CPU_Frequency (GHz)'].unique()"
      ],
      "metadata": {
        "colab": {
          "base_uri": "https://localhost:8080/"
        },
        "id": "xS_Rpx_sE5IV",
        "outputId": "32b7d927-132b-492f-b9a9-2ca12a832353"
      },
      "execution_count": 23,
      "outputs": [
        {
          "output_type": "execute_result",
          "data": {
            "text/plain": [
              "array([2.3 , 1.8 , 2.5 , 2.7 , 3.1 , 3.  , 2.2 , 1.6 , 2.  , 2.8 , 1.2 ,\n",
              "       2.9 , 2.4 , 1.44, 1.5 , 1.9 , 1.1 , 1.3 , 2.6 , 3.6 , 3.2 , 1.  ,\n",
              "       2.1 , 0.9 , 1.92])"
            ]
          },
          "metadata": {},
          "execution_count": 23
        }
      ]
    },
    {
      "cell_type": "code",
      "source": [
        "data['RAM (GB)'].unique()"
      ],
      "metadata": {
        "colab": {
          "base_uri": "https://localhost:8080/"
        },
        "id": "9NVIcEP3E6vB",
        "outputId": "d1728e24-360f-4f74-94b8-3491d9a4a047"
      },
      "execution_count": 24,
      "outputs": [
        {
          "output_type": "execute_result",
          "data": {
            "text/plain": [
              "array([ 8, 16,  4,  2, 12,  6, 32, 24, 64])"
            ]
          },
          "metadata": {},
          "execution_count": 24
        }
      ]
    },
    {
      "cell_type": "code",
      "source": [
        "data['Weight (kg)'].unique()"
      ],
      "metadata": {
        "colab": {
          "base_uri": "https://localhost:8080/"
        },
        "id": "MfeCMpKkE8vi",
        "outputId": "4d309d62-daf3-4dab-fdcc-d8e99e0366fa"
      },
      "execution_count": 25,
      "outputs": [
        {
          "output_type": "execute_result",
          "data": {
            "text/plain": [
              "array([1.37 , 1.34 , 1.86 , 1.83 , 2.1  , 2.04 , 1.3  , 1.6  , 2.2  ,\n",
              "       0.92 , 1.22 , 0.98 , 2.5  , 1.62 , 1.91 , 2.3  , 1.35 , 1.88 ,\n",
              "       1.89 , 1.65 , 2.71 , 1.2  , 1.44 , 2.8  , 2.   , 2.65 , 2.77 ,\n",
              "       3.2  , 0.69 , 1.49 , 2.4  , 2.13 , 2.43 , 1.7  , 1.4  , 1.8  ,\n",
              "       1.9  , 3.   , 1.252, 2.7  , 2.02 , 1.63 , 1.96 , 1.21 , 2.45 ,\n",
              "       1.25 , 1.5  , 2.62 , 1.38 , 1.58 , 1.85 , 1.23 , 1.26 , 2.16 ,\n",
              "       2.36 , 2.05 , 1.32 , 1.75 , 0.97 , 2.9  , 2.56 , 1.48 , 1.74 ,\n",
              "       1.1  , 1.56 , 2.03 , 1.05 , 4.4  , 1.29 , 1.95 , 2.06 , 1.12 ,\n",
              "       1.42 , 3.49 , 3.35 , 2.23 , 4.42 , 2.69 , 2.37 , 4.7  , 3.6  ,\n",
              "       2.08 , 4.3  , 1.68 , 1.41 , 4.14 , 2.18 , 2.24 , 2.67 , 2.14 ,\n",
              "       1.36 , 2.25 , 2.15 , 2.19 , 2.54 , 3.42 , 1.28 , 2.33 , 1.45 ,\n",
              "       2.79 , 1.84 , 2.6  , 2.26 , 3.25 , 1.59 , 1.13 , 1.78 , 1.15 ,\n",
              "       1.27 , 1.43 , 2.31 , 1.16 , 1.64 , 2.17 , 1.47 , 3.78 , 1.79 ,\n",
              "       0.91 , 1.99 , 4.33 , 1.93 , 1.87 , 2.63 , 3.4  , 3.14 , 1.94 ,\n",
              "       1.24 , 4.6  , 4.5  , 2.73 , 1.39 , 2.29 , 2.59 , 2.94 , 1.14 ,\n",
              "       3.8  , 3.31 , 1.09 , 3.21 , 1.19 , 1.98 , 1.17 , 4.36 , 1.71 ,\n",
              "       2.32 , 4.2  , 1.55 , 0.81 , 1.18 , 2.72 , 1.31 , 3.74 , 1.76 ,\n",
              "       1.54 , 2.83 , 2.07 , 2.38 , 3.58 , 1.08 , 2.75 , 2.99 , 1.11 ,\n",
              "       2.09 , 4.   , 0.99 , 3.52 , 2.591, 2.21 , 3.3  , 2.191, 2.34 ])"
            ]
          },
          "metadata": {},
          "execution_count": 25
        }
      ]
    },
    {
      "cell_type": "code",
      "source": [
        "data['Price (Euro)'].unique()"
      ],
      "metadata": {
        "id": "2FohMUCVE-N6"
      },
      "execution_count": null,
      "outputs": []
    }
  ]
}